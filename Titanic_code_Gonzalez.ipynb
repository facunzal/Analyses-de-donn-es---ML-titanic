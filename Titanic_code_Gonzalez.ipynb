{
 "cells": [
  {
   "cell_type": "code",
   "execution_count": null,
   "id": "d46483d6",
   "metadata": {},
   "outputs": [],
   "source": [
    "import pandas as pd"
   ]
  },
  {
   "cell_type": "code",
   "execution_count": null,
   "id": "b43d84e7",
   "metadata": {},
   "outputs": [],
   "source": [
    "data = pd.read_csv(\"train.csv\")\n",
    "test = pd.read_csv(\"test.csv\")\n",
    "test_ids=test[\"PassengerId\"]\n",
    "#on va ranger les données, supprimer les colonnes qui sont pas importantes et remplir les données qui manquent\n",
    "def clean(data):\n",
    "    data=data.drop([\"Ticket\",\"Cabin\", \"Name\",\"PassengerId\"], axis=1)\n",
    "    \n",
    "    cols=[\"SibSp\",\"Parch\",\"Fare\", \"Age\"]\n",
    "    for col in cols:\n",
    "        data[col].fillna(data[col].median(),inplace=True)\n",
    "        \n",
    "    data.Embarked.fillna(\"U\", inplace=True)\n",
    "    return data\n",
    "\n",
    "data = clean(data)\n",
    "test = clean(test)"
   ]
  },
  {
   "cell_type": "code",
   "execution_count": null,
   "id": "261dfd2a",
   "metadata": {},
   "outputs": [],
   "source": [
    "#on regarde le tableau\n",
    "data.head(5)"
   ]
  },
  {
   "cell_type": "code",
   "execution_count": null,
   "id": "817a4fad",
   "metadata": {},
   "outputs": [],
   "source": [
    "#on va convertir des valeurs qui sont pas numeros en numeros\n",
    "from sklearn import preprocessing\n",
    "le= preprocessing.LabelEncoder()\n",
    "\n",
    "cols=[\"Sex\",\"Embarked\"]\n",
    "\n",
    "for col in cols:\n",
    "    data[col]=le.fit_transform(data[col])\n",
    "    test[col]=le.transform(test[col])\n",
    "    print (le.classes_)\n",
    "     \n",
    "data.head(5)\n",
    "\n",
    "#de ce fait, on voit que female est devenu 0 et male 1. En plus C=0, Q=1, S=2, U=3"
   ]
  },
  {
   "cell_type": "code",
   "execution_count": null,
   "id": "4ab45927",
   "metadata": {},
   "outputs": [],
   "source": [
    "#Maintenant on a rangé les données, on va utiliser la librerie LogisticRegression\n",
    "from sklearn.linear_model import LogisticRegression\n",
    "from sklearn.model_selection import train_test_split\n",
    "\n",
    "#On va faire un set de validation pour tester son fonctionnement\n",
    "\n",
    "y=data[\"Survived\"]\n",
    "X = data.drop(\"Survived\", axis=1)\n",
    "\n",
    "X_train, X_val, y_train, y_val = train_test_split(X, y, test_size=0.2, random_state=42)\n",
    "    "
   ]
  },
  {
   "cell_type": "code",
   "execution_count": null,
   "id": "1031aa54",
   "metadata": {},
   "outputs": [],
   "source": [
    "#on défine le clasificateur pour entrainer les données et pouvoir faire après une prédiction.\n",
    "clf= LogisticRegression(random_state=0, max_iter=1000).fit(X_train, y_train)"
   ]
  },
  {
   "cell_type": "code",
   "execution_count": null,
   "id": "9fbb5591",
   "metadata": {},
   "outputs": [],
   "source": [
    "#On fais la prédiction et on calcule la précision de la prédiction pour évaluer son fonctionnement\n",
    "predictions=clf.predict(X_val)\n",
    "from sklearn.metrics import accuracy_score\n",
    "accuracy_score(y_val, predictions)"
   ]
  },
  {
   "cell_type": "code",
   "execution_count": null,
   "id": "916c41c8",
   "metadata": {},
   "outputs": [],
   "source": [
    "#precision de 81% (pas mal)\n",
    "#on construit la soumission des résultats\n",
    "submission_preds=clf.predict(test)"
   ]
  },
  {
   "cell_type": "code",
   "execution_count": null,
   "id": "253c5210",
   "metadata": {},
   "outputs": [],
   "source": [
    "#le suivant code est pour créer le fichier csv pour le charger à kaggle, on spécifie le noms de colonnes et les donnés\n",
    "df=pd.DataFrame({\"PassengerId\":test_ids.values,\n",
    "                \"Survived\": submission_preds,\n",
    "                })"
   ]
  },
  {
   "cell_type": "code",
   "execution_count": null,
   "id": "7bbf9ddc",
   "metadata": {},
   "outputs": [],
   "source": [
    "df.to_csv(\"submissionFACU.csv\", index= False)\n",
    "#les résultats sont mis dans le fichier csv appelé \"submissionFACU.csv\" qui est aussi dans mon github"
   ]
  }
 ],
 "metadata": {
  "kernelspec": {
   "display_name": "Python 3",
   "language": "python",
   "name": "python3"
  },
  "language_info": {
   "codemirror_mode": {
    "name": "ipython",
    "version": 3
   },
   "file_extension": ".py",
   "mimetype": "text/x-python",
   "name": "python",
   "nbconvert_exporter": "python",
   "pygments_lexer": "ipython3",
   "version": "3.8.8"
  }
 },
 "nbformat": 4,
 "nbformat_minor": 5
}
